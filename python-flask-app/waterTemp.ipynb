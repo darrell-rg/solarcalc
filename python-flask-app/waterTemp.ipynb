{
 "cells": [
  {
   "cell_type": "code",
   "execution_count": 4,
   "metadata": {},
   "outputs": [],
   "source": [
    "from dataretrieval import nwis\n",
    "from IPython.display import display\n",
    "from matplotlib import ticker\n",
    "import csv\n",
    "import os\n",
    "import re"
   ]
  },
  {
   "cell_type": "code",
   "execution_count": 51,
   "metadata": {},
   "outputs": [
    {
     "name": "stdout",
     "output_type": "stream",
     "text": [
      " Found this many sites with data 448\n"
     ]
    }
   ],
   "source": [
    "def extract_unique_15_digit_numbers(file_path):\n",
    "    # Read the content of the file\n",
    "    with open(file_path, 'r') as file:\n",
    "        content = file.read()\n",
    "    \n",
    "    # Find all 15-digit numbers using regular expression\n",
    "    numbers = re.findall(r'\\b\\d{15}\\b', content)\n",
    "    \n",
    "    # Convert to a set to get unique numbers, then back to a list\n",
    "    unique_numbers = list(set(numbers))\n",
    "    \n",
    "    return unique_numbers\n",
    "\n",
    "# Example usage:\n",
    "file_path = 'data/2020TempretureData.rdb'\n",
    "unique_15_digit_numbers = list(map(int,extract_unique_15_digit_numbers(file_path)))\n",
    "print(\" Found this many sites with data\" ,len(unique_15_digit_numbers))"
   ]
  },
  {
   "cell_type": "code",
   "execution_count": 52,
   "metadata": {},
   "outputs": [],
   "source": [
    "# USGS\t435723092171801\t2022-01-18 23:15\tCST\t10.4\tA\n",
    "\n",
    "def convert_to_float_if_possible(d):\n",
    "    for key, value in d.items():\n",
    "        try:\n",
    "            # Try to convert the value to a float\n",
    "            d[key] = float(value)\n",
    "        except:\n",
    "            # If the conversion fails, leave the value as is\n",
    "            pass\n",
    "    return d\n",
    "\n",
    "\n",
    "def convert_to_float(value):\n",
    "    try:\n",
    "        # Try to convert the value to a float\n",
    "        return float(value)\n",
    "    except:\n",
    "        # If the conversion fails, leave the value as is\n",
    "        return value\n",
    "\n",
    "\n",
    "\n",
    "def loadSiteData(data,fn):\n",
    "\n",
    "    cecInData = os.path.join(\"data\",fn )    \n",
    "\n",
    "    with open(cecInData, newline=\"\") as csvfile:\n",
    "        reader = csv.DictReader(csvfile)\n",
    "        for row in reader:\n",
    "            if len(row[\"SiteNumber\"]) > 12:\n",
    "                site_num = int(row[\"SiteNumber\"])\n",
    "                row =  convert_to_float_if_possible(row)\n",
    "                row[\"SiteNumber\"] = site_num\n",
    "                data[site_num] = row\n",
    "                data[site_num][\"temps\"] = []\n",
    "\n",
    "    return data\n",
    "\n",
    "#cec_module_db2 = pvlib.pvsystem.retrieve_sam(path='data/CECModules2023.csv')\n",
    "site_data = {}\n",
    "#SiteNumber, SiteName, SiteCategory, SiteAgency, SiteLongitude, SiteLatitude, \n",
    "site_data = loadSiteData(site_data,\"NWISMapperExport.csv\")"
   ]
  },
  {
   "cell_type": "code",
   "execution_count": 55,
   "metadata": {},
   "outputs": [
    {
     "name": "stdout",
     "output_type": "stream",
     "text": [
      " Found this many sites with data 2050\n",
      "{'SiteNumber': 324007107095501, 'SiteName': '19S.03W.08.423 HD-1', 'SiteCategory': 'GW', 'SiteAgency': 'USGS', 'SiteLongitude': -107.1653333, 'SiteLatitude': 32.66863889, 'SiteNWISURL': 'https://waterdata.usgs.gov/nwis/inventory?agency_code=USGS&site_no=324007107095501', 'temps': []}\n"
     ]
    }
   ],
   "source": [
    "\n",
    "def extract_tempData(file_path,site_data):\n",
    "    # Read the content of the file\n",
    "    with open(file_path, 'r') as file:\n",
    "        content = file.read()\n",
    "\n",
    "    # Find all 15-digit numbers using regular expression\n",
    "    temps_regex=r\"(\\d{15})\\b.*\\b(\\d\\d?.\\d)\\tA$\"\n",
    "\n",
    "    for mo in re.finditer(temps_regex, content, re.MULTILINE):\n",
    "        site = int(mo.group(1))\n",
    "        temp = convert_to_float(mo.group(2))\n",
    "        if site in site_data:\n",
    "            # print(\"found \",site)\n",
    "            site_data[site]['temps'].append(temp)\n",
    "    # Convert to a set to get unique numbers, then back to a list\n",
    "    \n",
    "    return site_data\n",
    "\n",
    "# Example usage:\n",
    "file_path = 'data/2020TempretureData.rdb'\n",
    "site_data = extract_tempData(file_path,site_data)\n",
    "print(\" Found this many sites with data\" ,len(site_data))\n",
    "\n",
    "print(site_data[unique_15_digit_numbers[0]])"
   ]
  },
  {
   "cell_type": "code",
   "execution_count": 56,
   "metadata": {},
   "outputs": [],
   "source": [
    "import statistics \n",
    "import json\n",
    "gj = {}\n",
    "\n",
    "for site_num in unique_15_digit_numbers: \n",
    "    if site_num in site_data and len(site_data[site_num]['temps'])>0:\n",
    "        gj[site_num] ={\n",
    "        \"type\": \"Feature\",\n",
    "        \"properties\": {\n",
    "            \"name\": site_data[site_num]['SiteName'],\n",
    "            \"id\": site_num,\n",
    "            \"temperature\": statistics.mean(site_data[site_num]['temps'])\n",
    "        },\n",
    "        \"geometry\": {\n",
    "            \"type\": \"Point\",\n",
    "            \"coordinates\": [site_data[site_num]['SiteLongitude'],site_data[site_num]['SiteLatitude']]\n",
    "        }\n",
    "}\n",
    "with open('data/groundTemps.json', 'w', newline='') as jsonFile:    \n",
    "    json.dump(gj,jsonFile,indent='\\t')"
   ]
  },
  {
   "cell_type": "code",
   "execution_count": 1,
   "metadata": {},
   "outputs": [
    {
     "ename": "NameError",
     "evalue": "name 'nwis' is not defined",
     "output_type": "error",
     "traceback": [
      "\u001b[1;31m---------------------------------------------------------------------------\u001b[0m",
      "\u001b[1;31mNameError\u001b[0m                                 Traceback (most recent call last)",
      "Input \u001b[1;32mIn [1]\u001b[0m, in \u001b[0;36m<module>\u001b[1;34m\u001b[0m\n\u001b[0;32m      1\u001b[0m \u001b[38;5;66;03m# \"00010,\" # Water Temp In C\u001b[39;00m\n\u001b[0;32m      2\u001b[0m \u001b[38;5;66;03m# \"00011,\" # Water Temp In F\u001b[39;00m\n\u001b[0;32m      3\u001b[0m \u001b[38;5;66;03m#Parameter Code 72019 = Depth to water level, ft below land surface\u001b[39;00m\n\u001b[0;32m      4\u001b[0m \u001b[38;5;66;03m#Parameter Code 99268\tDepth of sensor below water surface, not corrected for barometric pressure variations, ft\u001b[39;00m\n\u001b[0;32m      5\u001b[0m \u001b[38;5;66;03m# Parameter Code 72147  \tDepth of sensor below water surface, ft\u001b[39;00m\n\u001b[0;32m      6\u001b[0m \u001b[38;5;66;03m# statReportType=\"daily\",\u001b[39;00m\n\u001b[1;32m----> 8\u001b[0m x3 \u001b[38;5;241m=\u001b[39m \u001b[43mnwis\u001b[49m\u001b[38;5;241m.\u001b[39mget_stats(sites\u001b[38;5;241m=\u001b[39munique_15_digit_numbers[\u001b[38;5;241m10\u001b[39m:\u001b[38;5;241m20\u001b[39m], parameterCd\u001b[38;5;241m=\u001b[39m[\u001b[38;5;124m\"\u001b[39m\u001b[38;5;124m00010\u001b[39m\u001b[38;5;124m\"\u001b[39m, \u001b[38;5;124m\"\u001b[39m\u001b[38;5;124m72147\u001b[39m\u001b[38;5;124m\"\u001b[39m,\u001b[38;5;124m\"\u001b[39m\u001b[38;5;124m72019\u001b[39m\u001b[38;5;124m\"\u001b[39m ],\n\u001b[0;32m      9\u001b[0m                     statReportType\u001b[38;5;241m=\u001b[39m\u001b[38;5;124m\"\u001b[39m\u001b[38;5;124mdaily\u001b[39m\u001b[38;5;124m\"\u001b[39m, statTypeCd\u001b[38;5;241m=\u001b[39m[\u001b[38;5;124m\"\u001b[39m\u001b[38;5;124mmean\u001b[39m\u001b[38;5;124m\"\u001b[39m],\n\u001b[0;32m     10\u001b[0m                     startDt\u001b[38;5;241m=\u001b[39m\u001b[38;5;124m\"\u001b[39m\u001b[38;5;124m2022-01-01\u001b[39m\u001b[38;5;124m\"\u001b[39m, endDt\u001b[38;5;241m=\u001b[39m\u001b[38;5;124m\"\u001b[39m\u001b[38;5;124m2022-01-02\u001b[39m\u001b[38;5;124m\"\u001b[39m)\n\u001b[0;32m     11\u001b[0m display(x3[\u001b[38;5;241m0\u001b[39m])\n",
      "\u001b[1;31mNameError\u001b[0m: name 'nwis' is not defined"
     ]
    }
   ],
   "source": [
    "# \"00010,\" # Water Temp In C\n",
    "# \"00011,\" # Water Temp In F\n",
    "#Parameter Code 72019 = Depth to water level, ft below land surface\n",
    "#Parameter Code 99268\tDepth of sensor below water surface, not corrected for barometric pressure variations, ft\n",
    "# Parameter Code 72147  \tDepth of sensor below water surface, ft\n",
    "# statReportType=\"daily\",\n",
    "\n",
    "x3 = nwis.get_stats(sites=unique_15_digit_numbers[10:20], parameterCd=[\"00010\", \"72147\",\"72019\" ],\n",
    "                    statReportType=\"daily\", statTypeCd=[\"mean\"],\n",
    "                    startDt=\"2022-01-01\", endDt=\"2022-01-02\")\n",
    "display(x3[0])"
   ]
  }
 ],
 "metadata": {
  "kernelspec": {
   "display_name": "Python 3",
   "language": "python",
   "name": "python3"
  },
  "language_info": {
   "codemirror_mode": {
    "name": "ipython",
    "version": 3
   },
   "file_extension": ".py",
   "mimetype": "text/x-python",
   "name": "python",
   "nbconvert_exporter": "python",
   "pygments_lexer": "ipython3",
   "version": "3.8.0"
  }
 },
 "nbformat": 4,
 "nbformat_minor": 2
}
